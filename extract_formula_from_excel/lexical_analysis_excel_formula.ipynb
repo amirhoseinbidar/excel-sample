{
 "cells": [
  {
   "cell_type": "code",
   "execution_count": null,
   "id": "964cb7d2",
   "metadata": {},
   "outputs": [
    {
     "name": "stdout",
     "output_type": "stream",
     "text": [
      "=A2^power\n",
      "=A2^K1\n",
      "=A2^$K$1\n",
      "=A3^power\n",
      "=A3^K2\n",
      "=B3^L2\n",
      "=C3^M2\n",
      "=D3^N2\n",
      "=E3^O2\n",
      "=A4^power\n",
      "=A4^K3\n",
      "=A4^$K$1\n",
      "=A5^power\n",
      "=A5^K4\n",
      "=A5^$K$1\n",
      "=A6^power\n",
      "=A6^K5\n",
      "=A6^$K$1\n",
      "=A7^power\n",
      "=A7^K6\n",
      "=A7^$K$1\n",
      "=A8^power\n",
      "=A8^K7\n",
      "=A10^$K$1\n",
      "=A9^power\n",
      "=A9^K8\n",
      "=A11^$K$1\n",
      "=A10^power\n",
      "=A10^K9\n",
      "=A12^$K$1\n",
      "=A11^power\n",
      "=A11^K10\n",
      "=A13^$K$1\n",
      "=A12^power\n",
      "=A12^K11\n",
      "=A14^$K$1\n",
      "=A13^power\n",
      "=A13^K12\n",
      "=A15^$K$1\n",
      "=A14^power\n",
      "=A14^K13\n",
      "=A16^$K$1\n"
     ]
    }
   ],
   "source": [
    "import openpyxl\n",
    "import formulas\n",
    "from formulas.tokens import Token\n",
    "import re\n",
    "\n",
    "tokens, builder = formulas.Parser().ast(\"=(1 + 1) + handred / A2\")\n",
    "path = \"incrementation excel example.xlsx\"\n",
    "wb = openpyxl.load_workbook(path)\n",
    "ws = wb.active\n",
    "\n",
    "match_group = []\n",
    "\n",
    "def split_alpha_num(s):\n",
    "    m = re.match(r\"([A-Za-z]+)(\\d*)\", s)  # number part optional\n",
    "    if m:\n",
    "        return m.group(1), m.group(2) or None  # return None if no digits\n",
    "    return None, None\n",
    "\n",
    "def does_match(t1: list[Token], t2: list[Token]):\n",
    "    if len(t1) != len(t2):\n",
    "        return False\n",
    "\n",
    "    for right_token, left_token in zip(t1,t2):\n",
    "        if right_token.__class__ is not left_token.__class__:\n",
    "            return False\n",
    "        if isinstance(right_token)\n",
    "\n",
    "for row in ws.iter_rows(values_only=True):\n",
    "    for cell in row:\n",
    "        if isinstance(cell, str) and cell.startswith(\"=\"):\n",
    "            group_detected = False\n",
    "            new_tokens, _ = formulas.Parser().ast(cell)\n",
    "            for group in match_group:\n",
    "                sample = group[0]\n",
    "                if does_match(new_tokens, sample):\n",
    "                    group.append(new_tokens)\n",
    "                    group_detected = True\n",
    "                    break\n",
    "            if not group_detected:\n",
    "                match_group.append([new_tokens])"
   ]
  },
  {
   "cell_type": "code",
   "execution_count": 29,
   "id": "dd2356e7",
   "metadata": {},
   "outputs": [
    {
     "data": {
      "text/plain": [
       "formulas.tokens.operand.Range"
      ]
     },
     "execution_count": 29,
     "metadata": {},
     "output_type": "execute_result"
    }
   ],
   "source": [
    "tokens, builder = formulas.Parser().ast(\"=(1 + 1) + handred / A2\")\n",
    "tokens[6].__class__"
   ]
  },
  {
   "cell_type": "code",
   "execution_count": null,
   "id": "c0f72d96",
   "metadata": {},
   "outputs": [
    {
     "name": "stdout",
     "output_type": "stream",
     "text": [
      "('hello', '123')\n",
      "('hello', None)\n"
     ]
    }
   ],
   "source": [
    "import re\n",
    "\n",
    "\n",
    "\n",
    "print(split_alpha_num(\"hello123\"))  # ('hello', '123')\n",
    "print(split_alpha_num(\"hello\"))     # ('hello', None)\n"
   ]
  },
  {
   "cell_type": "code",
   "execution_count": 25,
   "id": "cc2d9e31",
   "metadata": {},
   "outputs": [
    {
     "data": {
      "text/plain": [
       "True"
      ]
     },
     "execution_count": 25,
     "metadata": {},
     "output_type": "execute_result"
    }
   ],
   "source": [
    "str is str"
   ]
  }
 ],
 "metadata": {
  "kernelspec": {
   "display_name": ".venv",
   "language": "python",
   "name": "python3"
  },
  "language_info": {
   "codemirror_mode": {
    "name": "ipython",
    "version": 3
   },
   "file_extension": ".py",
   "mimetype": "text/x-python",
   "name": "python",
   "nbconvert_exporter": "python",
   "pygments_lexer": "ipython3",
   "version": "3.12.3"
  }
 },
 "nbformat": 4,
 "nbformat_minor": 5
}
