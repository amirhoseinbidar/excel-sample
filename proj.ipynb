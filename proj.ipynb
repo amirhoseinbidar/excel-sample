{
 "cells": [
  {
   "cell_type": "code",
   "execution_count": 1,
   "id": "64a4e110",
   "metadata": {},
   "outputs": [
    {
     "name": "stdout",
     "output_type": "stream",
     "text": [
      "Requirement already satisfied: openpyxl in ./.venv/lib/python3.12/site-packages (3.1.5)\n",
      "Requirement already satisfied: et-xmlfile in ./.venv/lib/python3.12/site-packages (from openpyxl) (2.0.0)\n",
      "\n",
      "\u001b[1m[\u001b[0m\u001b[34;49mnotice\u001b[0m\u001b[1;39;49m]\u001b[0m\u001b[39;49m A new release of pip is available: \u001b[0m\u001b[31;49m25.1.1\u001b[0m\u001b[39;49m -> \u001b[0m\u001b[32;49m25.2\u001b[0m\n",
      "\u001b[1m[\u001b[0m\u001b[34;49mnotice\u001b[0m\u001b[1;39;49m]\u001b[0m\u001b[39;49m To update, run: \u001b[0m\u001b[32;49mpip install --upgrade pip\u001b[0m\n"
     ]
    }
   ],
   "source": [
    "!pip install openpyxl"
   ]
  },
  {
   "cell_type": "markdown",
   "id": "575aa7e1",
   "metadata": {},
   "source": [
    "# Formula"
   ]
  },
  {
   "cell_type": "code",
   "execution_count": 2,
   "id": "8c0e4b1a",
   "metadata": {},
   "outputs": [],
   "source": [
    "column_A = [1, 2, 3, 4, 5]\n",
    "column_B = [5, 4, 6, 7, 8]\n"
   ]
  },
  {
   "cell_type": "code",
   "execution_count": 3,
   "id": "612c9018",
   "metadata": {},
   "outputs": [],
   "source": [
    "from openpyxl import Workbook\n",
    "wb = Workbook()\n",
    "ws = wb.active"
   ]
  },
  {
   "cell_type": "code",
   "execution_count": 4,
   "id": "e0973ed3",
   "metadata": {},
   "outputs": [],
   "source": [
    "for idx, (a, b) in enumerate(zip(column_A, column_B), 1):\n",
    "    ws[f\"A{idx}\"] = a\n",
    "    ws[f\"B{idx}\"] = b\n",
    "    ws[f\"C{idx}\"] = f\"=SUM(A{idx}:B{idx})\""
   ]
  },
  {
   "cell_type": "markdown",
   "id": "ad7293fc",
   "metadata": {},
   "source": [
    "# Surface chart"
   ]
  },
  {
   "cell_type": "code",
   "execution_count": 5,
   "id": "7eb2a8fa",
   "metadata": {},
   "outputs": [],
   "source": [
    "from openpyxl import Workbook\n",
    "from openpyxl.chart import (\n",
    "    SurfaceChart,\n",
    "    SurfaceChart3D,\n",
    "    Reference,\n",
    ")\n",
    "\n",
    "ws = wb.create_sheet(\"Surface Chart\")\n",
    "\n",
    "data = [\n",
    "    [None, 10, 20, 30, 40, 50,],\n",
    "    [0.1, 15, 65, 105, 65, 15,],\n",
    "    [0.2, 35, 105, 170, 105, 35,],\n",
    "    [0.3, 55, 135, 215, 135, 55,],\n",
    "    [0.4, 75, 155, 240, 155, 75,],\n",
    "    [0.5, 80, 190, 245, 190, 80,],\n",
    "    [0.6, 75, 155, 240, 155, 75,],\n",
    "    [0.7, 55, 135, 215, 135, 55,],\n",
    "    [0.8, 35, 105, 170, 105, 35,],\n",
    "    [0.9, 15, 65, 105, 65, 15],\n",
    "]\n",
    "\n",
    "for row in data:\n",
    "    ws.append(row)\n",
    "\n",
    "\n",
    "c1 = SurfaceChart()\n",
    "ref = Reference(ws, min_col=2, max_col=6, min_row=1, max_row=10)\n",
    "labels = Reference(ws, min_col=1, min_row=2, max_row=10)\n",
    "c1.add_data(ref, titles_from_data=True)\n",
    "c1.set_categories(labels)\n",
    "c1.title = \"Contour\"\n",
    "\n",
    "ws.add_chart(c1, \"A12\")\n",
    "\n",
    "from copy import deepcopy\n",
    "\n",
    "# wireframe\n",
    "c2 = deepcopy(c1)\n",
    "c2.wireframe = True\n",
    "c2.title = \"2D Wireframe\"\n",
    "\n",
    "ws.add_chart(c2, \"G12\")\n",
    "\n",
    "# 3D Surface\n",
    "c3 = SurfaceChart3D()\n",
    "c3.add_data(ref, titles_from_data=True)\n",
    "c3.set_categories(labels)\n",
    "c3.title = \"Surface\"\n",
    "\n",
    "ws.add_chart(c3, \"A29\")\n",
    "\n",
    "c4 = deepcopy(c3)\n",
    "c4.wireframe = True\n",
    "c4.title = \"3D Wireframe\"\n",
    "\n",
    "ws.add_chart(c4, \"G29\")"
   ]
  },
  {
   "cell_type": "markdown",
   "id": "436c3451",
   "metadata": {},
   "source": [
    "# 3D Area Chart"
   ]
  },
  {
   "cell_type": "code",
   "execution_count": 6,
   "id": "a7a4c315",
   "metadata": {},
   "outputs": [],
   "source": [
    "from openpyxl import Workbook\n",
    "from openpyxl.chart import (\n",
    "    AreaChart3D,\n",
    "    Reference,\n",
    ")\n",
    "\n",
    "ws = wb.create_sheet(\"3D area chart\")\n",
    "\n",
    "rows = [\n",
    "    ['Number', 'Batch 1', 'Batch 2'],\n",
    "    [2, 30, 40],\n",
    "    [3, 25, 40],\n",
    "    [4 ,30, 50],\n",
    "    [5 ,10, 30],\n",
    "    [6,  5, 25],\n",
    "    [7 ,10, 50],\n",
    "]\n",
    "\n",
    "for row in rows:\n",
    "    ws.append(row)\n",
    "\n",
    "chart = AreaChart3D()\n",
    "chart.title = \"Area Chart\"\n",
    "chart.style = 13\n",
    "chart.x_axis.title = 'Test'\n",
    "chart.y_axis.title = 'Percentage'\n",
    "chart.legend = None\n",
    "\n",
    "cats = Reference(ws, min_col=1, min_row=1, max_row=7)\n",
    "data = Reference(ws, min_col=2, min_row=1, max_col=3, max_row=7)\n",
    "chart.add_data(data, titles_from_data=True)\n",
    "chart.set_categories(cats)\n",
    "\n",
    "ws.add_chart(chart, \"A10\")"
   ]
  },
  {
   "cell_type": "code",
   "execution_count": 7,
   "id": "fa6e50ef",
   "metadata": {},
   "outputs": [],
   "source": [
    "from openpyxl import Workbook\n",
    "from openpyxl.styles import Font, PatternFill, Alignment\n",
    "\n",
    "# Create a new workbook and select active worksheet\n",
    "ws = wb.create_sheet(\"Style\")\n",
    "\n",
    "# Write some text in A1\n",
    "cell = ws[\"A1\"]\n",
    "cell.value = \"Styled Text\"\n",
    "\n",
    "# Apply font styles\n",
    "cell.font = Font(name=\"Calibri\", bold=True, italic=True, size=14, color=\"FFFFFF\")\n",
    "\n",
    "# Apply background color\n",
    "cell.fill = PatternFill(start_color=\"4F81BD\", end_color=\"4F81BD\", fill_type=\"solid\")\n",
    "\n",
    "# Center align the text\n",
    "cell.alignment = Alignment(horizontal=\"center\", vertical=\"center\")\n",
    "\n",
    "# Merge cells from A1 to C1\n",
    "ws.merge_cells(\"A1:C1\")\n",
    "\n",
    "# Add another styled cell\n",
    "cell2 = ws[\"A2\"]\n",
    "cell2.value = \"Another Example\"\n",
    "cell2.font = Font(color=\"FF0000\", underline=\"single\")\n"
   ]
  },
  {
   "cell_type": "code",
   "execution_count": 8,
   "id": "6b74852f",
   "metadata": {},
   "outputs": [],
   "source": [
    "wb.save(\"sample.xlsx\")"
   ]
  },
  {
   "cell_type": "code",
   "execution_count": null,
   "id": "3fe3cd71",
   "metadata": {},
   "outputs": [],
   "source": [
    "[\n",
    "    1,\n",
    "    14,\n",
    "    12,\n",
    "    3,\n",
    "    10,\n",
    "    19,\n",
    "    8,\n",
    "    15,\n",
    "    14,\n",
    "    0,\n",
    "    4,\n",
    "    14,\n",
    "    0,\n",
    "    13,\n",
    "    8,\n",
    "    11,\n",
    "    1,\n",
    "    9,\n",
    "    10,\n",
    "    17,\n",
    "    9,\n",
    "    8,\n",
    "    7,\n",
    "    5,\n",
    "    3,\n",
    "    19,\n",
    "    4,\n",
    "    19,\n",
    "    17,\n",
    "    10,\n",
    "    12,\n",
    "    5,\n",
    "    8,\n",
    "    14,\n",
    "    0,\n",
    "    19,\n",
    "    19,\n",
    "    19,\n",
    "    2,\n",
    "    11,\n",
    "    7,\n",
    "    17,\n",
    "    2,\n",
    "    3,\n",
    "    17,\n",
    "    6,\n",
    "    4,\n",
    "    5,\n",
    "    6,\n",
    "    14,\n",
    "]"
   ]
  },
  {
   "cell_type": "code",
   "execution_count": 9,
   "id": "32b26a82",
   "metadata": {},
   "outputs": [
    {
     "name": "stderr",
     "output_type": "stream",
     "text": [
      "<>:10: SyntaxWarning: invalid escape sequence '\\s'\n",
      "<>:10: SyntaxWarning: invalid escape sequence '\\s'\n",
      "/tmp/ipykernel_30991/2998509888.py:10: SyntaxWarning: invalid escape sequence '\\s'\n",
      "  plt.plot(x, np.sin(x), label='$\\sin(x)$')\n"
     ]
    },
    {
     "data": {
      "image/png": "[encoded data removed]",
      "text/plain": [
       "<Figure size 400x250 with 1 Axes>"
      ]
     },
     "metadata": {},
     "output_type": "display_data"
    }
   ],
   "source": [
    "from matplotlib import pyplot as plt\n",
    "import numpy as np\n",
    "plt.rc('text', usetex=True)\n",
    "plt.rc('font', family='serif')\n",
    "plt.rc('font', size=10.0)\n",
    "plt.rc('legend', fontsize=10.0)\n",
    "plt.rc('font', weight='normal')\n",
    "x = np.linspace(0, 10)\n",
    "plt.figure(figsize=(4, 2.5))\n",
    "plt.plot(x, np.sin(x), label='$\\sin(x)$')\n",
    "plt.xlabel(r'$x\\mathrm{-axis}$')\n",
    "plt.ylabel(r'$y\\mathrm{-axis}$')\n",
    "plt.legend(loc='lower right')\n",
    "plt.savefig('myplot.pdf', bbox_inches='tight')"
   ]
  },
  {
   "cell_type": "code",
   "execution_count": 10,
   "id": "b821b9b0",
   "metadata": {},
   "outputs": [],
   "source": [
    "from datetime import date\n",
    "\n",
    "from openpyxl import Workbook\n",
    "from openpyxl.chart import (\n",
    "    LineChart,\n",
    "    Reference,\n",
    ")\n",
    "from openpyxl.chart.axis import DateAxis\n",
    "\n",
    "wb = Workbook()\n",
    "ws = wb.active\n",
    "\n",
    "values = np.sin(np.linspace(0, 10))+2\n",
    "\n",
    "for value in values:\n",
    "    ws.append([value])\n",
    "\n",
    "c1 = LineChart()\n",
    "\n",
    "data = Reference(ws, min_col=1, min_row=1, max_col=1, max_row=len(values))\n",
    "c1.add_data(data)\n",
    "\n",
    "\n",
    "ws.add_chart(c1, \"C2\")\n",
    "\n",
    "wb.save(\"line3D.xlsx\")"
   ]
  }
 ],
 "metadata": {
  "kernelspec": {
   "display_name": ".venv",
   "language": "python",
   "name": "python3"
  },
  "language_info": {
   "codemirror_mode": {
    "name": "ipython",
    "version": 3
   },
   "file_extension": ".py",
   "mimetype": "text/x-python",
   "name": "python",
   "nbconvert_exporter": "python",
   "pygments_lexer": "ipython3",
   "version": "3.12.3"
  }
 },
 "nbformat": 4,
 "nbformat_minor": 5
}
